{
  "nbformat": 4,
  "nbformat_minor": 0,
  "metadata": {
    "colab": {
      "provenance": [],
      "authorship_tag": "ABX9TyPjsYjkgBkl3Eykiij1trrY",
      "include_colab_link": true
    },
    "kernelspec": {
      "name": "python3",
      "display_name": "Python 3"
    },
    "language_info": {
      "name": "python"
    }
  },
  "cells": [
    {
      "cell_type": "markdown",
      "metadata": {
        "id": "view-in-github",
        "colab_type": "text"
      },
      "source": [
        "<a href=\"https://colab.research.google.com/github/Marchelx/PengenalanPython/blob/main/Tugas_1.ipynb\" target=\"_parent\"><img src=\"https://colab.research.google.com/assets/colab-badge.svg\" alt=\"Open In Colab\"/></a>"
      ]
    },
    {
      "cell_type": "code",
      "execution_count": null,
      "metadata": {
        "id": "4t-g5kg-DSC3"
      },
      "outputs": [],
      "source": []
    },
    {
      "cell_type": "markdown",
      "source": [
        "**Variable**\n",
        "\n",
        "Sesuai dengan namanya, variable adalah sesuatu yang dapat berubah. Variabel ini digunakan untuk merujuk menuju lokasi memori oleh program komputer.\n",
        "Pada sebagian besar bahasa lain, Anda perlu menetapkan tipe data terhadap suatu variabel. Namun, hal itu tidak perlu dilakukan pada bahasa pemrograman python. Sebagai contoh, jika Anda menulis program dengan menggunakan bahasa C, maka sintaks yang harus anda tulis adalah int num = 39; Dengan Python Anda hanya cukup menuliskan num = 39.\n"
      ],
      "metadata": {
        "id": "MwF0uS7-Dzyk"
      }
    },
    {
      "cell_type": "markdown",
      "source": [
        "**Integer**\n",
        "\n",
        "Integer adalah angka numerik yang dapat berupa nilai positif, negatif, atau nol tanpa memiliki angka desimal"
      ],
      "metadata": {
        "id": "v55jKd_DESd9"
      }
    },
    {
      "cell_type": "code",
      "source": [
        "num = 39\n",
        "print(num)\n",
        "39\n",
        "type(num)\n"
      ],
      "metadata": {
        "colab": {
          "base_uri": "https://localhost:8080/"
        },
        "id": "hjgK9VtgEe1G",
        "outputId": "f0d47eb3-92cc-4f50-cc6b-2ae7666d4659"
      },
      "execution_count": 1,
      "outputs": [
        {
          "output_type": "stream",
          "name": "stdout",
          "text": [
            "39\n"
          ]
        },
        {
          "output_type": "execute_result",
          "data": {
            "text/plain": [
              "int"
            ]
          },
          "metadata": {},
          "execution_count": 1
        }
      ]
    },
    {
      "cell_type": "markdown",
      "source": [
        "**Float**\n",
        "\n",
        "Float adalah angka numerik sama seperti integer , namun ada sedikit perbedaan, yaitu adanya angka desimal"
      ],
      "metadata": {
        "id": "uNXg3_b5EoyM"
      }
    },
    {
      "cell_type": "code",
      "source": [
        "num = 39.0\n",
        "print(num)\n",
        "39.0\n",
        "type(num)\n"
      ],
      "metadata": {
        "colab": {
          "base_uri": "https://localhost:8080/"
        },
        "id": "Eqf4g3nvEzYf",
        "outputId": "089d5631-3625-4011-a23d-42c5a56e7324"
      },
      "execution_count": 2,
      "outputs": [
        {
          "output_type": "stream",
          "name": "stdout",
          "text": [
            "39.0\n"
          ]
        },
        {
          "output_type": "execute_result",
          "data": {
            "text/plain": [
              "float"
            ]
          },
          "metadata": {},
          "execution_count": 2
        }
      ]
    },
    {
      "cell_type": "markdown",
      "source": [
        "**String**\n",
        "\n",
        "String adalah kumpulan beberapa karakter atau integer. String tersebut direpresentasikan dengan menggunakan tanda quotes (double atau single)"
      ],
      "metadata": {
        "id": "M-qWOsDmE1uu"
      }
    },
    {
      "cell_type": "code",
      "source": [
        "test = \"Hallo semua\"\n",
        "print (test )\n",
        "type(test )\n"
      ],
      "metadata": {
        "colab": {
          "base_uri": "https://localhost:8080/"
        },
        "id": "yyjNjK_-FCns",
        "outputId": "cc8b42bc-a33b-47d3-a7bd-3891f3767adf"
      },
      "execution_count": 7,
      "outputs": [
        {
          "output_type": "stream",
          "name": "stdout",
          "text": [
            "Hallo semua\n"
          ]
        },
        {
          "output_type": "execute_result",
          "data": {
            "text/plain": [
              "str"
            ]
          },
          "metadata": {},
          "execution_count": 7
        }
      ]
    },
    {
      "cell_type": "markdown",
      "source": [
        "**Boolen**\n",
        "\n",
        "Boolean adalah operator biner yang hanya memiliki dua nilai output yaitu True atau False.\n"
      ],
      "metadata": {
        "id": "inKsbN8CFTdA"
      }
    },
    {
      "cell_type": "code",
      "source": [
        "anda_robot = False\n",
        "print(anda_robot)\n",
        "False\n",
        "type(anda_robot)\n"
      ],
      "metadata": {
        "colab": {
          "base_uri": "https://localhost:8080/"
        },
        "id": "l5WLk7IFFckX",
        "outputId": "8328ce0b-543f-43de-959b-59c5c29321ae"
      },
      "execution_count": 8,
      "outputs": [
        {
          "output_type": "stream",
          "name": "stdout",
          "text": [
            "False\n"
          ]
        },
        {
          "output_type": "execute_result",
          "data": {
            "text/plain": [
              "bool"
            ]
          },
          "metadata": {},
          "execution_count": 8
        }
      ]
    },
    {
      "cell_type": "markdown",
      "source": [
        "**Operator**\n",
        "\n",
        "Operator adalah simbol aritmatika pada bahasa pemrograman Python atau bahasa lainnya, untuk melihat seluruh operator yang tersedia pada Python Anda dapat melihat table di bawah ini.\n"
      ],
      "metadata": {
        "id": "AERUcnXRFmQU"
      }
    },
    {
      "cell_type": "code",
      "source": [
        "a=6\n",
        "b=2\n",
        "c=a+b\n",
        "d=a-b\n",
        "e=a*b\n",
        "f=a/b\n",
        "g=a**b\n",
        "\n",
        "print(c)\n",
        "print(d)\n",
        "print(e)\n",
        "print(f)\n",
        "print(g)"
      ],
      "metadata": {
        "colab": {
          "base_uri": "https://localhost:8080/"
        },
        "id": "e5kYmlMRFosV",
        "outputId": "1fb24cc2-4b3e-4c4d-9491-7547ac784d2d"
      },
      "execution_count": 13,
      "outputs": [
        {
          "output_type": "stream",
          "name": "stdout",
          "text": [
            "8\n",
            "4\n",
            "12\n",
            "3.0\n",
            "36\n"
          ]
        }
      ]
    },
    {
      "cell_type": "markdown",
      "source": [
        "**Operator** **pembanding**\n",
        "\n"
      ],
      "metadata": {
        "id": "L3oirbUdG4NO"
      }
    },
    {
      "cell_type": "code",
      "source": [
        "a = 5\n",
        "b = 2\n",
        "c=a > b\n",
        "d=a < b\n",
        "e=a == b\n",
        "f=a >= b\n",
        "g=b <= a\n",
        "\n",
        "print(c)\n",
        "print(d)\n",
        "print(e)\n",
        "print(f)\n",
        "print(g)\n"
      ],
      "metadata": {
        "colab": {
          "base_uri": "https://localhost:8080/"
        },
        "id": "fbQ1sjiLG-ze",
        "outputId": "247c7b67-e89c-4afa-d05e-c61f0bc02392"
      },
      "execution_count": 15,
      "outputs": [
        {
          "output_type": "stream",
          "name": "stdout",
          "text": [
            "True\n",
            "False\n",
            "False\n",
            "True\n",
            "True\n"
          ]
        }
      ]
    },
    {
      "cell_type": "markdown",
      "source": [
        "**Operator Logika**"
      ],
      "metadata": {
        "id": "aT4bqD4hH0vU"
      }
    },
    {
      "cell_type": "code",
      "source": [
        "a = 10\n",
        "b = 2\n",
        "a == 2 and b == 10\n",
        "a == 10 or b == 10\n",
        "not(a == 10)\n",
        "not(a == 2)\n"
      ],
      "metadata": {
        "colab": {
          "base_uri": "https://localhost:8080/"
        },
        "id": "UJHIcErgH7d9",
        "outputId": "4b313aaa-1f20-4747-ff8d-74abc2b0edd4"
      },
      "execution_count": 18,
      "outputs": [
        {
          "output_type": "execute_result",
          "data": {
            "text/plain": [
              "True"
            ]
          },
          "metadata": {},
          "execution_count": 18
        }
      ]
    },
    {
      "cell_type": "markdown",
      "source": [
        "**Conditional** **Statement**\n",
        "\n",
        "Conditional statement digunakan untuk memeriksa suatu kondisi yang ditentukan sebelumnya apakah nilai nya True atau False.\n",
        "Sering kali ketika kita sedang mengembangkan suatu aplikasi, ada hal di mana kita perlu memeriksa suatu kondisi tertentu lalu melakukan perintah yang berbeda tergantung pada hasil sebelumnya. Dalam skenario seperti itu conditional statement akan sangat berguna. if, elif dan else adalah pernyataan kondisional yang digunakan dalam bahasa pemrograman Python.\n",
        "Dengan conditional statement, kita dapat membandingkan suatu variable dan memeriksanya apakah variable tersebut memiliki nilai atau merupakan suatu boolean, dan selanjutnya memeriksa apakah True atau False. Oleh karena itu, mari kita praktekan penggunaannya.\n",
        "Kondisi pertama. Kita memiliki suatu integer dan tiga kondisi. Yang pertama adalah kondisi if untuk mengecek apakah nomor tersebut sama dengan 10. Yang kedua adalah kondisi elif. Disini kita akan memeriksa apakah nomor tersebut kurang dari 10. Yang terakhir adalah kondisi else. Kondisi ini akan tereksekusi jika kedua kondisi sebelumnya tidak memenuhi\n"
      ],
      "metadata": {
        "id": "qZthFrByIUXq"
      }
    },
    {
      "cell_type": "markdown",
      "source": [
        "**1** **Kondisi**"
      ],
      "metadata": {
        "id": "7dFy65lGMerY"
      }
    },
    {
      "cell_type": "code",
      "source": [
        "angka = 5\n",
        "if angka == 10:\n",
        "    print(\"angka adalah 10\")\n",
        "elif angka < 10:\n",
        "    print(\"angka adalah kurang dari 10\")\n",
        "else:\n",
        "    print(\"angka adalah lebih dari 10\")\n"
      ],
      "metadata": {
        "colab": {
          "base_uri": "https://localhost:8080/"
        },
        "id": "NhLzLX9pJJQ6",
        "outputId": "7871011c-ed1c-4c7a-cde9-750e3a033e17"
      },
      "execution_count": 22,
      "outputs": [
        {
          "output_type": "stream",
          "name": "stdout",
          "text": [
            "angka adalah kurang dari 10\n"
          ]
        }
      ]
    },
    {
      "cell_type": "markdown",
      "source": [
        "**2** **kondisi**\n"
      ],
      "metadata": {
        "id": "gnrQRxG-JoBQ"
      }
    },
    {
      "cell_type": "code",
      "source": [
        "anda_robot = False\n",
        "if anda_robot:\n",
        "    print (\"Ya, saya robot\")\n",
        "else:\n",
        "    print (\"bukan, saya manusia\")\n"
      ],
      "metadata": {
        "colab": {
          "base_uri": "https://localhost:8080/"
        },
        "id": "nbv5dbYWJtv0",
        "outputId": "6205150f-105f-4f62-f510-54f838574178"
      },
      "execution_count": 23,
      "outputs": [
        {
          "output_type": "stream",
          "name": "stdout",
          "text": [
            "bukan, saya manusia\n"
          ]
        }
      ]
    },
    {
      "cell_type": "markdown",
      "source": [
        "**lebih** **dari** **2** **Kondisi**"
      ],
      "metadata": {
        "id": "VURXBiYcKbE9"
      }
    },
    {
      "cell_type": "code",
      "source": [
        "a = 10\n",
        "b = 5\n",
        "c = 20\n",
        "\n",
        "if a > b:\n",
        "    if a > c:\n",
        "        print(\"a adalah yang terbesar\")\n",
        "    else:\n",
        "        print(\"c adalah yang terbesar\")\n",
        "else:\n",
        "    if b > c:\n",
        "        print(\"b adalah yang terbesar\")\n",
        "    else:\n",
        "        print(\"c adalah yang terbesar\")"
      ],
      "metadata": {
        "colab": {
          "base_uri": "https://localhost:8080/"
        },
        "id": "lx8orYUML9f9",
        "outputId": "0a32a911-e8a7-4725-ef95-ed339f991c3f"
      },
      "execution_count": 26,
      "outputs": [
        {
          "output_type": "stream",
          "name": "stdout",
          "text": [
            "c adalah yang terbesar\n"
          ]
        }
      ]
    },
    {
      "cell_type": "markdown",
      "source": [
        "**For** **loops**\n",
        "\n",
        "Metode lain yang berguna dalam bahasa pemrograman Python adalah iterator. Hal ini sangat membantu jika Anda ingin melakukan sesuatu beberapa kali."
      ],
      "metadata": {
        "id": "b4weTKfANSxL"
      }
    },
    {
      "cell_type": "code",
      "source": [
        "print(\"Hai\")\n",
        "print(\"Hai\")\n",
        "print(\"Hai\")\n",
        "\n",
        "for i in range(3):\n",
        "   print(\"Hai\")\n"
      ],
      "metadata": {
        "colab": {
          "base_uri": "https://localhost:8080/"
        },
        "id": "pZUBu1LmNdF4",
        "outputId": "a7c5217d-fb7b-43c9-8153-895f981eeace"
      },
      "execution_count": 27,
      "outputs": [
        {
          "output_type": "stream",
          "name": "stdout",
          "text": [
            "Hai\n",
            "Hai\n",
            "Hai\n",
            "Hai\n",
            "Hai\n",
            "Hai\n"
          ]
        }
      ]
    },
    {
      "cell_type": "markdown",
      "source": [
        "**While** **loops**\n",
        "Dalam bahasa pemrograman Python, terdapat metode loop atau iterator yang lain, yaitu while loop. Kita pun dapat memberikan hasil yang sama seperti yang telah kita lakukan pada for loops dengan menggunakan while loops"
      ],
      "metadata": {
        "id": "lp-Of7gbODZV"
      }
    },
    {
      "cell_type": "code",
      "source": [
        "a = 0\n",
        "while a < 3:\n",
        "  print(\"Angka\", a)\n",
        "  a += 1\n"
      ],
      "metadata": {
        "colab": {
          "base_uri": "https://localhost:8080/"
        },
        "id": "ItNp3qIvOLvV",
        "outputId": "83bd1b73-0cce-468d-e6b8-78914ba27c3c"
      },
      "execution_count": 1,
      "outputs": [
        {
          "output_type": "stream",
          "name": "stdout",
          "text": [
            "Angka 0\n",
            "Angka 1\n",
            "Angka 2\n"
          ]
        }
      ]
    }
  ]
}