{
  "nbformat": 4,
  "nbformat_minor": 0,
  "metadata": {
    "colab": {
      "provenance": [],
      "authorship_tag": "ABX9TyPYYQPW4wcLJKAIED67HNNk",
      "include_colab_link": true
    },
    "kernelspec": {
      "name": "python3",
      "display_name": "Python 3"
    },
    "language_info": {
      "name": "python"
    }
  },
  "cells": [
    {
      "cell_type": "markdown",
      "metadata": {
        "id": "view-in-github",
        "colab_type": "text"
      },
      "source": [
        "<a href=\"https://colab.research.google.com/github/Marchelx/PengenalanPython/blob/main/Conditional.ipynb\" target=\"_parent\"><img src=\"https://colab.research.google.com/assets/colab-badge.svg\" alt=\"Open In Colab\"/></a>"
      ]
    },
    {
      "cell_type": "markdown",
      "source": [
        "**1** **kondisi**"
      ],
      "metadata": {
        "id": "8HQFEssIUIPh"
      }
    },
    {
      "cell_type": "code",
      "source": [
        "angka = 5\n",
        "if angka == 10:\n",
        "    print(\"angka adalah 10\")\n",
        "elif angka < 10:\n",
        "    print(\"angka adalah kurang dari 10\")\n",
        "else:\n",
        "    print(\"angka adalah lebih dari 10\")"
      ],
      "metadata": {
        "id": "6XxiM6K5UMke"
      },
      "execution_count": null,
      "outputs": []
    },
    {
      "cell_type": "markdown",
      "source": [
        "**2** **kondisi**"
      ],
      "metadata": {
        "id": "bKOFR0uTUWsO"
      }
    },
    {
      "cell_type": "code",
      "source": [
        "anda_robot = False\n",
        "if anda_robot:\n",
        "    print (\"Ya, saya robot\")\n",
        "else:\n",
        "    print (\"bukan, saya manusia\")"
      ],
      "metadata": {
        "id": "xAYU8O_jUYU1"
      },
      "execution_count": null,
      "outputs": []
    },
    {
      "cell_type": "markdown",
      "source": [
        "**lebih** **dari** **2** **kondisi**"
      ],
      "metadata": {
        "id": "rYmDj77CUezJ"
      }
    },
    {
      "cell_type": "code",
      "source": [
        "a = 10\n",
        "b = 5\n",
        "c = 20\n",
        "\n",
        "if a > b:\n",
        "    if a > c:\n",
        "        print(\"a adalah yang terbesar\")\n",
        "    else:\n",
        "        print(\"c adalah yang terbesar\")\n",
        "else:\n",
        "    if b > c:\n",
        "        print(\"b adalah yang terbesar\")\n",
        "    else:\n",
        "        print(\"c adalah yang terbesar\")"
      ],
      "metadata": {
        "id": "OTS9EcH9Uig6"
      },
      "execution_count": null,
      "outputs": []
    }
  ]
}