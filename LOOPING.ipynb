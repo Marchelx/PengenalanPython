{
  "nbformat": 4,
  "nbformat_minor": 0,
  "metadata": {
    "colab": {
      "provenance": [],
      "authorship_tag": "ABX9TyNidpXg0ZkMTEE1aqyKwNGM",
      "include_colab_link": true
    },
    "kernelspec": {
      "name": "python3",
      "display_name": "Python 3"
    },
    "language_info": {
      "name": "python"
    }
  },
  "cells": [
    {
      "cell_type": "markdown",
      "metadata": {
        "id": "view-in-github",
        "colab_type": "text"
      },
      "source": [
        "<a href=\"https://colab.research.google.com/github/Marchelx/PengenalanPython/blob/main/LOOPING.ipynb\" target=\"_parent\"><img src=\"https://colab.research.google.com/assets/colab-badge.svg\" alt=\"Open In Colab\"/></a>"
      ]
    },
    {
      "cell_type": "markdown",
      "source": [
        "**While** **Loop**\n",
        "\n",
        "While loop adalah perulangan uncountable atau perulangan yang jumlah proses pengulangannya tidak ditentukan. Ia akan menjalankan baris kode di dalam blok kodenya secara terus menerus selama masih memenuhi ekspresi yang sudah ditentukan sebelumnya, yang berarti ia akan terus mengulang selama kondisi bernilai TRUE. Berikut syntax dasar pada while Python:\n",
        "\n"
      ],
      "metadata": {
        "id": "khNtgfqMVIHR"
      }
    },
    {
      "cell_type": "code",
      "source": [
        "i = 0\n",
        "while i < 5 :\n",
        "  print('Hello world' ,i)\n",
        "  i += 1"
      ],
      "metadata": {
        "colab": {
          "base_uri": "https://localhost:8080/"
        },
        "id": "m6JhpIVKVW7o",
        "outputId": "99e96d1d-73c2-4b20-bac5-f61ec4733bc1"
      },
      "execution_count": 1,
      "outputs": [
        {
          "output_type": "stream",
          "name": "stdout",
          "text": [
            "Hello world 0\n",
            "Hello world 1\n",
            "Hello world 2\n",
            "Hello world 3\n",
            "Hello world 4\n"
          ]
        }
      ]
    },
    {
      "cell_type": "markdown",
      "source": [
        "**Foor** **Loop**\n",
        "\n",
        "berbeda dengan mayoritas bahasa pemrograman lain, di dalam Python perulangan for memiliki kemampuan untuk mengulangi item dari urutan apapun, seperti list atau string. Berikut syntax dasar untuk struktur for loop dalam bahasa pemrograman Python:"
      ],
      "metadata": {
        "id": "Q-DhtPW_Vi24"
      }
    },
    {
      "cell_type": "code",
      "source": [
        "for i in range(5):\n",
        "  print('Hello world' ,i)"
      ],
      "metadata": {
        "colab": {
          "base_uri": "https://localhost:8080/"
        },
        "id": "lQ8x7xZFVu3f",
        "outputId": "0851f020-716f-45e4-b4fd-a793c1d5d397"
      },
      "execution_count": 2,
      "outputs": [
        {
          "output_type": "stream",
          "name": "stdout",
          "text": [
            "Hello world 0\n",
            "Hello world 1\n",
            "Hello world 2\n",
            "Hello world 3\n",
            "Hello world 4\n"
          ]
        }
      ]
    }
  ]
}