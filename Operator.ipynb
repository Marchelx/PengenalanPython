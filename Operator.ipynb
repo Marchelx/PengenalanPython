{
  "nbformat": 4,
  "nbformat_minor": 0,
  "metadata": {
    "colab": {
      "provenance": [],
      "toc_visible": true,
      "authorship_tag": "ABX9TyMQrZDfxIgn5m7RA3wLxjMi",
      "include_colab_link": true
    },
    "kernelspec": {
      "name": "python3",
      "display_name": "Python 3"
    },
    "language_info": {
      "name": "python"
    }
  },
  "cells": [
    {
      "cell_type": "markdown",
      "metadata": {
        "id": "view-in-github",
        "colab_type": "text"
      },
      "source": [
        "<a href=\"https://colab.research.google.com/github/Marchelx/PengenalanPython/blob/main/Operator.ipynb\" target=\"_parent\"><img src=\"https://colab.research.google.com/assets/colab-badge.svg\" alt=\"Open In Colab\"/></a>"
      ]
    },
    {
      "cell_type": "markdown",
      "source": [
        "**Operator** **Aritmatika**"
      ],
      "metadata": {
        "id": "TKlYsacQR6lD"
      }
    },
    {
      "cell_type": "code",
      "source": [
        "a=6\n",
        "b=2\n",
        "c=a+b\n",
        "d=a-b\n",
        "e=a*b\n",
        "f=a/b\n",
        "g=a**b\n",
        "\n",
        "print(c)\n",
        "print(d)\n",
        "print(e)\n",
        "print(f)\n",
        "print(g)"
      ],
      "metadata": {
        "colab": {
          "base_uri": "https://localhost:8080/"
        },
        "id": "CPPieKD4R93T",
        "outputId": "1c6533a1-4375-4b2d-b7a8-f7240396bf02"
      },
      "execution_count": 1,
      "outputs": [
        {
          "output_type": "stream",
          "name": "stdout",
          "text": [
            "8\n",
            "4\n",
            "12\n",
            "3.0\n",
            "36\n"
          ]
        }
      ]
    },
    {
      "cell_type": "markdown",
      "source": [
        "**Operator** **Perbandingan**"
      ],
      "metadata": {
        "id": "o_DC3sNQSA-G"
      }
    },
    {
      "cell_type": "code",
      "source": [
        "a = 5\n",
        "b = 2\n",
        "c=a > b\n",
        "d=a < b\n",
        "e=a == b\n",
        "f=a >= b\n",
        "g=b <= a\n",
        "\n",
        "print(c)\n",
        "print(d)\n",
        "print(e)\n",
        "print(f)\n",
        "print(g)"
      ],
      "metadata": {
        "colab": {
          "base_uri": "https://localhost:8080/"
        },
        "id": "wQDmMjM9SE4t",
        "outputId": "cf041842-c78c-4b7b-c2a3-d40ae99e6f8a"
      },
      "execution_count": 4,
      "outputs": [
        {
          "output_type": "stream",
          "name": "stdout",
          "text": [
            "True\n",
            "False\n",
            "False\n",
            "True\n",
            "True\n"
          ]
        }
      ]
    },
    {
      "cell_type": "markdown",
      "source": [
        "**Operator Logika**"
      ],
      "metadata": {
        "id": "oguJ2cd_Sc-k"
      }
    },
    {
      "cell_type": "code",
      "source": [
        "a = 10\n",
        "b = 2\n",
        "a == 2 and b == 10\n",
        "a == 10 or b == 10\n",
        "not(a == 10)\n",
        "not(a == 2)"
      ],
      "metadata": {
        "colab": {
          "base_uri": "https://localhost:8080/"
        },
        "id": "7Eu0YWU1Sr5b",
        "outputId": "1a06a3a5-c16a-4c99-9df0-7b24025429c0"
      },
      "execution_count": 5,
      "outputs": [
        {
          "output_type": "execute_result",
          "data": {
            "text/plain": [
              "True"
            ]
          },
          "metadata": {},
          "execution_count": 5
        }
      ]
    }
  ]
}